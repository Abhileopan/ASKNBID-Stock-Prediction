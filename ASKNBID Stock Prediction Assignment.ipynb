{
 "cells": [
  {
   "cell_type": "markdown",
   "metadata": {
    "_cell_guid": "179c2ccd-823a-9576-f8d4-552dbbde3483",
    "_uuid": "1338472e2c8f33faf40b2557e42541278407a288"
   },
   "source": [
    "\n",
    "# Importing Modules"
   ]
  },
  {
   "cell_type": "code",
   "execution_count": 1,
   "metadata": {
    "_cell_guid": "78d1f84f-aed9-747b-154a-f7fe6c7bb8c9",
    "_uuid": "610c773478e0a7489db4917c246cf47ccba08e9c"
   },
   "outputs": [
    {
     "name": "stderr",
     "output_type": "stream",
     "text": [
      "C:\\Users\\Abhileopan\\Anaconda3\\lib\\site-packages\\h5py\\__init__.py:36: FutureWarning: Conversion of the second argument of issubdtype from `float` to `np.floating` is deprecated. In future, it will be treated as `np.float64 == np.dtype(float).type`.\n",
      "  from ._conv import register_converters as _register_converters\n",
      "Using TensorFlow backend.\n"
     ]
    }
   ],
   "source": [
    "import numpy as np\n",
    "import matplotlib.pyplot as plt\n",
    "import pandas as pd\n",
    "from pandas import datetime\n",
    "import math, time\n",
    "import itertools\n",
    "from sklearn import preprocessing\n",
    "import datetime\n",
    "from operator import itemgetter\n",
    "from sklearn.metrics import mean_squared_error\n",
    "from math import sqrt\n",
    "from keras.models import Sequential\n",
    "from keras.layers.core import Dense, Dropout, Activation\n",
    "from keras.layers.recurrent import LSTM\n",
    "from keras.models import load_model\n",
    "import keras\n",
    "import h5py\n",
    "import requests\n",
    "import os"
   ]
  },
  {
   "cell_type": "markdown",
   "metadata": {
    "_cell_guid": "02cc6c64-3161-cf2d-4298-c700c2eee594",
    "_uuid": "2a87c85deef2650c0349158ad49b8224092fca81"
   },
   "source": [
    "# Reading data and transforming them to pandas dataframe"
   ]
  },
  {
   "cell_type": "code",
   "execution_count": 2,
   "metadata": {
    "_cell_guid": "e10138dc-b1a1-fd9e-64c8-3bbf3b1844a6",
    "_uuid": "c71fc2fdacb83987f905aa336faea2103d5487d3"
   },
   "outputs": [
    {
     "data": {
      "text/html": [
       "<div>\n",
       "<style scoped>\n",
       "    .dataframe tbody tr th:only-of-type {\n",
       "        vertical-align: middle;\n",
       "    }\n",
       "\n",
       "    .dataframe tbody tr th {\n",
       "        vertical-align: top;\n",
       "    }\n",
       "\n",
       "    .dataframe thead th {\n",
       "        text-align: right;\n",
       "    }\n",
       "</style>\n",
       "<table border=\"1\" class=\"dataframe\">\n",
       "  <thead>\n",
       "    <tr style=\"text-align: right;\">\n",
       "      <th></th>\n",
       "      <th>symbol</th>\n",
       "      <th>open</th>\n",
       "      <th>low</th>\n",
       "      <th>high</th>\n",
       "      <th>volume</th>\n",
       "      <th>adj close</th>\n",
       "    </tr>\n",
       "    <tr>\n",
       "      <th>date</th>\n",
       "      <th></th>\n",
       "      <th></th>\n",
       "      <th></th>\n",
       "      <th></th>\n",
       "      <th></th>\n",
       "      <th></th>\n",
       "    </tr>\n",
       "  </thead>\n",
       "  <tbody>\n",
       "    <tr>\n",
       "      <th>2016-01-05</th>\n",
       "      <td>WLTW</td>\n",
       "      <td>123.430000</td>\n",
       "      <td>122.309998</td>\n",
       "      <td>126.250000</td>\n",
       "      <td>2163600.0</td>\n",
       "      <td>125.839996</td>\n",
       "    </tr>\n",
       "    <tr>\n",
       "      <th>2016-01-06</th>\n",
       "      <td>WLTW</td>\n",
       "      <td>125.239998</td>\n",
       "      <td>119.940002</td>\n",
       "      <td>125.540001</td>\n",
       "      <td>2386400.0</td>\n",
       "      <td>119.980003</td>\n",
       "    </tr>\n",
       "    <tr>\n",
       "      <th>2016-01-07</th>\n",
       "      <td>WLTW</td>\n",
       "      <td>116.379997</td>\n",
       "      <td>114.930000</td>\n",
       "      <td>119.739998</td>\n",
       "      <td>2489500.0</td>\n",
       "      <td>114.949997</td>\n",
       "    </tr>\n",
       "    <tr>\n",
       "      <th>2016-01-08</th>\n",
       "      <td>WLTW</td>\n",
       "      <td>115.480003</td>\n",
       "      <td>113.500000</td>\n",
       "      <td>117.440002</td>\n",
       "      <td>2006300.0</td>\n",
       "      <td>116.620003</td>\n",
       "    </tr>\n",
       "    <tr>\n",
       "      <th>2016-01-11</th>\n",
       "      <td>WLTW</td>\n",
       "      <td>117.010002</td>\n",
       "      <td>114.089996</td>\n",
       "      <td>117.330002</td>\n",
       "      <td>1408600.0</td>\n",
       "      <td>114.970001</td>\n",
       "    </tr>\n",
       "  </tbody>\n",
       "</table>\n",
       "</div>"
      ],
      "text/plain": [
       "           symbol        open         low        high     volume   adj close\n",
       "date                                                                        \n",
       "2016-01-05   WLTW  123.430000  122.309998  126.250000  2163600.0  125.839996\n",
       "2016-01-06   WLTW  125.239998  119.940002  125.540001  2386400.0  119.980003\n",
       "2016-01-07   WLTW  116.379997  114.930000  119.739998  2489500.0  114.949997\n",
       "2016-01-08   WLTW  115.480003  113.500000  117.440002  2006300.0  116.620003\n",
       "2016-01-11   WLTW  117.010002  114.089996  117.330002  1408600.0  114.970001"
      ]
     },
     "execution_count": 2,
     "metadata": {},
     "output_type": "execute_result"
    }
   ],
   "source": [
    "df = pd.read_csv(\"prices-split-adjusted.csv\", index_col = 0)\n",
    "df[\"adj close\"] = df.close # Moving close to the last column\n",
    "df.drop(['close'], 1, inplace=True) # Moving close to the last column\n",
    "df.head()"
   ]
  },
  {
   "cell_type": "code",
   "execution_count": 3,
   "metadata": {
    "_cell_guid": "83a2dfa1-a5e0-580f-1617-faa4b8e25ed3",
    "_uuid": "7e6ab5e5b17c6f3f7a09c5f62a232840e1965b41"
   },
   "outputs": [
    {
     "data": {
      "text/html": [
       "<div>\n",
       "<style scoped>\n",
       "    .dataframe tbody tr th:only-of-type {\n",
       "        vertical-align: middle;\n",
       "    }\n",
       "\n",
       "    .dataframe tbody tr th {\n",
       "        vertical-align: top;\n",
       "    }\n",
       "\n",
       "    .dataframe thead th {\n",
       "        text-align: right;\n",
       "    }\n",
       "</style>\n",
       "<table border=\"1\" class=\"dataframe\">\n",
       "  <thead>\n",
       "    <tr style=\"text-align: right;\">\n",
       "      <th></th>\n",
       "      <th>Unnamed: 0</th>\n",
       "      <th>Ticker Symbol</th>\n",
       "      <th>Period Ending</th>\n",
       "      <th>Accounts Payable</th>\n",
       "      <th>Accounts Receivable</th>\n",
       "      <th>Add'l income/expense items</th>\n",
       "      <th>After Tax ROE</th>\n",
       "      <th>Capital Expenditures</th>\n",
       "      <th>Capital Surplus</th>\n",
       "      <th>Cash Ratio</th>\n",
       "      <th>...</th>\n",
       "      <th>Total Current Assets</th>\n",
       "      <th>Total Current Liabilities</th>\n",
       "      <th>Total Equity</th>\n",
       "      <th>Total Liabilities</th>\n",
       "      <th>Total Liabilities &amp; Equity</th>\n",
       "      <th>Total Revenue</th>\n",
       "      <th>Treasury Stock</th>\n",
       "      <th>For Year</th>\n",
       "      <th>Earnings Per Share</th>\n",
       "      <th>Estimated Shares Outstanding</th>\n",
       "    </tr>\n",
       "  </thead>\n",
       "  <tbody>\n",
       "    <tr>\n",
       "      <th>0</th>\n",
       "      <td>0</td>\n",
       "      <td>AAL</td>\n",
       "      <td>31-12-2012</td>\n",
       "      <td>3.068000e+09</td>\n",
       "      <td>-222000000</td>\n",
       "      <td>-1961000000</td>\n",
       "      <td>23</td>\n",
       "      <td>-1888000000</td>\n",
       "      <td>4.695000e+09</td>\n",
       "      <td>53.0</td>\n",
       "      <td>...</td>\n",
       "      <td>7.072000e+09</td>\n",
       "      <td>9011000000</td>\n",
       "      <td>-7.987000e+09</td>\n",
       "      <td>2.489100e+10</td>\n",
       "      <td>1.690400e+10</td>\n",
       "      <td>2.485500e+10</td>\n",
       "      <td>-367000000.0</td>\n",
       "      <td>2012.0</td>\n",
       "      <td>-5.60</td>\n",
       "      <td>3.350000e+08</td>\n",
       "    </tr>\n",
       "    <tr>\n",
       "      <th>1</th>\n",
       "      <td>1</td>\n",
       "      <td>AAL</td>\n",
       "      <td>31-12-2013</td>\n",
       "      <td>4.975000e+09</td>\n",
       "      <td>-93000000</td>\n",
       "      <td>-2723000000</td>\n",
       "      <td>67</td>\n",
       "      <td>-3114000000</td>\n",
       "      <td>1.059200e+10</td>\n",
       "      <td>75.0</td>\n",
       "      <td>...</td>\n",
       "      <td>1.432300e+10</td>\n",
       "      <td>13806000000</td>\n",
       "      <td>-2.731000e+09</td>\n",
       "      <td>4.500900e+10</td>\n",
       "      <td>4.227800e+10</td>\n",
       "      <td>2.674300e+10</td>\n",
       "      <td>0.0</td>\n",
       "      <td>2013.0</td>\n",
       "      <td>-11.25</td>\n",
       "      <td>1.630222e+08</td>\n",
       "    </tr>\n",
       "    <tr>\n",
       "      <th>2</th>\n",
       "      <td>2</td>\n",
       "      <td>AAL</td>\n",
       "      <td>31-12-2014</td>\n",
       "      <td>4.668000e+09</td>\n",
       "      <td>-160000000</td>\n",
       "      <td>-150000000</td>\n",
       "      <td>143</td>\n",
       "      <td>-5311000000</td>\n",
       "      <td>1.513500e+10</td>\n",
       "      <td>60.0</td>\n",
       "      <td>...</td>\n",
       "      <td>1.175000e+10</td>\n",
       "      <td>13404000000</td>\n",
       "      <td>2.021000e+09</td>\n",
       "      <td>4.120400e+10</td>\n",
       "      <td>4.322500e+10</td>\n",
       "      <td>4.265000e+10</td>\n",
       "      <td>0.0</td>\n",
       "      <td>2014.0</td>\n",
       "      <td>4.02</td>\n",
       "      <td>7.169154e+08</td>\n",
       "    </tr>\n",
       "    <tr>\n",
       "      <th>3</th>\n",
       "      <td>3</td>\n",
       "      <td>AAL</td>\n",
       "      <td>31-12-2015</td>\n",
       "      <td>5.102000e+09</td>\n",
       "      <td>352000000</td>\n",
       "      <td>-708000000</td>\n",
       "      <td>135</td>\n",
       "      <td>-6151000000</td>\n",
       "      <td>1.159100e+10</td>\n",
       "      <td>51.0</td>\n",
       "      <td>...</td>\n",
       "      <td>9.985000e+09</td>\n",
       "      <td>13605000000</td>\n",
       "      <td>5.635000e+09</td>\n",
       "      <td>4.278000e+10</td>\n",
       "      <td>4.841500e+10</td>\n",
       "      <td>4.099000e+10</td>\n",
       "      <td>0.0</td>\n",
       "      <td>2015.0</td>\n",
       "      <td>11.39</td>\n",
       "      <td>6.681299e+08</td>\n",
       "    </tr>\n",
       "    <tr>\n",
       "      <th>4</th>\n",
       "      <td>4</td>\n",
       "      <td>AAP</td>\n",
       "      <td>29-12-2012</td>\n",
       "      <td>2.409453e+09</td>\n",
       "      <td>-89482000</td>\n",
       "      <td>600000</td>\n",
       "      <td>32</td>\n",
       "      <td>-271182000</td>\n",
       "      <td>5.202150e+08</td>\n",
       "      <td>23.0</td>\n",
       "      <td>...</td>\n",
       "      <td>3.184200e+09</td>\n",
       "      <td>2559638000</td>\n",
       "      <td>1.210694e+09</td>\n",
       "      <td>3.403120e+09</td>\n",
       "      <td>4.613814e+09</td>\n",
       "      <td>6.205003e+09</td>\n",
       "      <td>-27095000.0</td>\n",
       "      <td>2012.0</td>\n",
       "      <td>5.29</td>\n",
       "      <td>7.328355e+07</td>\n",
       "    </tr>\n",
       "  </tbody>\n",
       "</table>\n",
       "<p>5 rows × 79 columns</p>\n",
       "</div>"
      ],
      "text/plain": [
       "   Unnamed: 0 Ticker Symbol Period Ending  Accounts Payable  \\\n",
       "0           0           AAL    31-12-2012      3.068000e+09   \n",
       "1           1           AAL    31-12-2013      4.975000e+09   \n",
       "2           2           AAL    31-12-2014      4.668000e+09   \n",
       "3           3           AAL    31-12-2015      5.102000e+09   \n",
       "4           4           AAP    29-12-2012      2.409453e+09   \n",
       "\n",
       "   Accounts Receivable  Add'l income/expense items  After Tax ROE  \\\n",
       "0           -222000000                 -1961000000             23   \n",
       "1            -93000000                 -2723000000             67   \n",
       "2           -160000000                  -150000000            143   \n",
       "3            352000000                  -708000000            135   \n",
       "4            -89482000                      600000             32   \n",
       "\n",
       "   Capital Expenditures  Capital Surplus  Cash Ratio  \\\n",
       "0           -1888000000     4.695000e+09        53.0   \n",
       "1           -3114000000     1.059200e+10        75.0   \n",
       "2           -5311000000     1.513500e+10        60.0   \n",
       "3           -6151000000     1.159100e+10        51.0   \n",
       "4            -271182000     5.202150e+08        23.0   \n",
       "\n",
       "               ...               Total Current Assets  \\\n",
       "0              ...                       7.072000e+09   \n",
       "1              ...                       1.432300e+10   \n",
       "2              ...                       1.175000e+10   \n",
       "3              ...                       9.985000e+09   \n",
       "4              ...                       3.184200e+09   \n",
       "\n",
       "   Total Current Liabilities  Total Equity  Total Liabilities  \\\n",
       "0                 9011000000 -7.987000e+09       2.489100e+10   \n",
       "1                13806000000 -2.731000e+09       4.500900e+10   \n",
       "2                13404000000  2.021000e+09       4.120400e+10   \n",
       "3                13605000000  5.635000e+09       4.278000e+10   \n",
       "4                 2559638000  1.210694e+09       3.403120e+09   \n",
       "\n",
       "   Total Liabilities & Equity  Total Revenue  Treasury Stock  For Year  \\\n",
       "0                1.690400e+10   2.485500e+10    -367000000.0    2012.0   \n",
       "1                4.227800e+10   2.674300e+10             0.0    2013.0   \n",
       "2                4.322500e+10   4.265000e+10             0.0    2014.0   \n",
       "3                4.841500e+10   4.099000e+10             0.0    2015.0   \n",
       "4                4.613814e+09   6.205003e+09     -27095000.0    2012.0   \n",
       "\n",
       "   Earnings Per Share  Estimated Shares Outstanding  \n",
       "0               -5.60                  3.350000e+08  \n",
       "1              -11.25                  1.630222e+08  \n",
       "2                4.02                  7.169154e+08  \n",
       "3               11.39                  6.681299e+08  \n",
       "4                5.29                  7.328355e+07  \n",
       "\n",
       "[5 rows x 79 columns]"
      ]
     },
     "execution_count": 3,
     "metadata": {},
     "output_type": "execute_result"
    }
   ],
   "source": [
    "df2 = pd.read_csv(\"fundamentals.csv\")\n",
    "df2.head()"
   ]
  },
  {
   "cell_type": "markdown",
   "metadata": {
    "_cell_guid": "5a80f7c5-3ab2-5ac2-1b1e-26f9ecc53c34",
    "_uuid": "3b58fb93735e753e317375eeaa27dbcc502df274"
   },
   "source": [
    "# Extracting all symbols from the list"
   ]
  },
  {
   "cell_type": "code",
   "execution_count": 4,
   "metadata": {
    "_cell_guid": "8eab994d-dd03-6a73-0bbe-28c68ba58a1c",
    "_uuid": "d9f07ec1fbb4b66d0d60ea3be49730feaab13727"
   },
   "outputs": [
    {
     "data": {
      "text/plain": [
       "501"
      ]
     },
     "execution_count": 4,
     "metadata": {},
     "output_type": "execute_result"
    }
   ],
   "source": [
    "symbols = list(set(df.symbol))\n",
    "len(symbols)"
   ]
  },
  {
   "cell_type": "code",
   "execution_count": 5,
   "metadata": {
    "_cell_guid": "ca231b38-093b-2d84-d190-587f737c23d8",
    "_uuid": "408add166df146f6df8f5f11bf9dd276be1f4cc7"
   },
   "outputs": [
    {
     "data": {
      "text/plain": [
       "['EQR',\n",
       " 'EXPE',\n",
       " 'UPS',\n",
       " 'L',\n",
       " 'MSFT',\n",
       " 'INTU',\n",
       " 'DLR',\n",
       " 'FIS',\n",
       " 'BIIB',\n",
       " 'ESRX',\n",
       " 'EMR']"
      ]
     },
     "execution_count": 5,
     "metadata": {},
     "output_type": "execute_result"
    }
   ],
   "source": [
    "symbols[:11] # Example of what is in symbols"
   ]
  },
  {
   "cell_type": "markdown",
   "metadata": {
    "_cell_guid": "83aeaa46-584e-beef-e8e6-a121a51c43d8",
    "_uuid": "817c0836ab3cdb1876cd80038ae6eda66602c2c8"
   },
   "source": [
    "# Extracting a particular price for stock in symbols\n",
    "Using GOOG as an example"
   ]
  },
  {
   "cell_type": "code",
   "execution_count": 6,
   "metadata": {
    "_cell_guid": "ca7ef19e-e4ce-c4b9-24ab-fd62a279f599",
    "_uuid": "c14f590702704a2f6e81e8a5cfb4c07f4e0fa1ca"
   },
   "outputs": [
    {
     "data": {
      "text/html": [
       "<div>\n",
       "<style scoped>\n",
       "    .dataframe tbody tr th:only-of-type {\n",
       "        vertical-align: middle;\n",
       "    }\n",
       "\n",
       "    .dataframe tbody tr th {\n",
       "        vertical-align: top;\n",
       "    }\n",
       "\n",
       "    .dataframe thead th {\n",
       "        text-align: right;\n",
       "    }\n",
       "</style>\n",
       "<table border=\"1\" class=\"dataframe\">\n",
       "  <thead>\n",
       "    <tr style=\"text-align: right;\">\n",
       "      <th></th>\n",
       "      <th>open</th>\n",
       "      <th>low</th>\n",
       "      <th>high</th>\n",
       "      <th>volume</th>\n",
       "      <th>adj close</th>\n",
       "    </tr>\n",
       "    <tr>\n",
       "      <th>date</th>\n",
       "      <th></th>\n",
       "      <th></th>\n",
       "      <th></th>\n",
       "      <th></th>\n",
       "      <th></th>\n",
       "    </tr>\n",
       "  </thead>\n",
       "  <tbody>\n",
       "    <tr>\n",
       "      <th>2010-01-04</th>\n",
       "      <td>312.304948</td>\n",
       "      <td>310.955001</td>\n",
       "      <td>313.580158</td>\n",
       "      <td>3927000.0</td>\n",
       "      <td>312.205308</td>\n",
       "    </tr>\n",
       "    <tr>\n",
       "      <th>2010-01-05</th>\n",
       "      <td>312.419511</td>\n",
       "      <td>309.610028</td>\n",
       "      <td>312.748278</td>\n",
       "      <td>6031900.0</td>\n",
       "      <td>310.830459</td>\n",
       "    </tr>\n",
       "    <tr>\n",
       "      <th>2010-01-06</th>\n",
       "      <td>311.761979</td>\n",
       "      <td>302.048370</td>\n",
       "      <td>311.761979</td>\n",
       "      <td>7987100.0</td>\n",
       "      <td>302.994813</td>\n",
       "    </tr>\n",
       "    <tr>\n",
       "      <th>2010-01-07</th>\n",
       "      <td>303.562685</td>\n",
       "      <td>295.218951</td>\n",
       "      <td>303.861575</td>\n",
       "      <td>12876600.0</td>\n",
       "      <td>295.941242</td>\n",
       "    </tr>\n",
       "    <tr>\n",
       "      <th>2010-01-08</th>\n",
       "      <td>294.895159</td>\n",
       "      <td>293.455551</td>\n",
       "      <td>300.499172</td>\n",
       "      <td>9483900.0</td>\n",
       "      <td>299.886470</td>\n",
       "    </tr>\n",
       "  </tbody>\n",
       "</table>\n",
       "</div>"
      ],
      "text/plain": [
       "                  open         low        high      volume   adj close\n",
       "date                                                                  \n",
       "2010-01-04  312.304948  310.955001  313.580158   3927000.0  312.205308\n",
       "2010-01-05  312.419511  309.610028  312.748278   6031900.0  310.830459\n",
       "2010-01-06  311.761979  302.048370  311.761979   7987100.0  302.994813\n",
       "2010-01-07  303.562685  295.218951  303.861575  12876600.0  295.941242\n",
       "2010-01-08  294.895159  293.455551  300.499172   9483900.0  299.886470"
      ]
     },
     "execution_count": 6,
     "metadata": {},
     "output_type": "execute_result"
    }
   ],
   "source": [
    "df = df[df.symbol == 'GOOG']\n",
    "df.drop(['symbol'],1,inplace=True)\n",
    "df.head()"
   ]
  },
  {
   "cell_type": "markdown",
   "metadata": {
    "_cell_guid": "7f9cab92-a31c-034a-df07-7bc7d6591668",
    "_uuid": "a0bbea3e4c409c53e039f7e3dc3d64a8cf1e2a8f"
   },
   "source": [
    "# Normalizing the data"
   ]
  },
  {
   "cell_type": "code",
   "execution_count": 7,
   "metadata": {
    "_cell_guid": "a6052d2e-f656-543b-90cc-9f85b9837bac",
    "_uuid": "b96d0356583e0ead79bc01837d6a2a208ef24dd8"
   },
   "outputs": [
    {
     "data": {
      "text/html": [
       "<div>\n",
       "<style scoped>\n",
       "    .dataframe tbody tr th:only-of-type {\n",
       "        vertical-align: middle;\n",
       "    }\n",
       "\n",
       "    .dataframe tbody tr th {\n",
       "        vertical-align: top;\n",
       "    }\n",
       "\n",
       "    .dataframe thead th {\n",
       "        text-align: right;\n",
       "    }\n",
       "</style>\n",
       "<table border=\"1\" class=\"dataframe\">\n",
       "  <thead>\n",
       "    <tr style=\"text-align: right;\">\n",
       "      <th></th>\n",
       "      <th>open</th>\n",
       "      <th>low</th>\n",
       "      <th>high</th>\n",
       "      <th>volume</th>\n",
       "      <th>adj close</th>\n",
       "    </tr>\n",
       "    <tr>\n",
       "      <th>date</th>\n",
       "      <th></th>\n",
       "      <th></th>\n",
       "      <th></th>\n",
       "      <th></th>\n",
       "      <th></th>\n",
       "    </tr>\n",
       "  </thead>\n",
       "  <tbody>\n",
       "    <tr>\n",
       "      <th>2010-01-04</th>\n",
       "      <td>0.157047</td>\n",
       "      <td>0.161167</td>\n",
       "      <td>0.156390</td>\n",
       "      <td>0.131722</td>\n",
       "      <td>0.159399</td>\n",
       "    </tr>\n",
       "    <tr>\n",
       "      <th>2010-01-05</th>\n",
       "      <td>0.157238</td>\n",
       "      <td>0.158884</td>\n",
       "      <td>0.154995</td>\n",
       "      <td>0.202469</td>\n",
       "      <td>0.157092</td>\n",
       "    </tr>\n",
       "    <tr>\n",
       "      <th>2010-01-06</th>\n",
       "      <td>0.156140</td>\n",
       "      <td>0.146049</td>\n",
       "      <td>0.153341</td>\n",
       "      <td>0.268184</td>\n",
       "      <td>0.143942</td>\n",
       "    </tr>\n",
       "    <tr>\n",
       "      <th>2010-01-07</th>\n",
       "      <td>0.142436</td>\n",
       "      <td>0.134457</td>\n",
       "      <td>0.140094</td>\n",
       "      <td>0.432522</td>\n",
       "      <td>0.132105</td>\n",
       "    </tr>\n",
       "    <tr>\n",
       "      <th>2010-01-08</th>\n",
       "      <td>0.127950</td>\n",
       "      <td>0.131464</td>\n",
       "      <td>0.134455</td>\n",
       "      <td>0.318492</td>\n",
       "      <td>0.138726</td>\n",
       "    </tr>\n",
       "  </tbody>\n",
       "</table>\n",
       "</div>"
      ],
      "text/plain": [
       "                open       low      high    volume  adj close\n",
       "date                                                         \n",
       "2010-01-04  0.157047  0.161167  0.156390  0.131722   0.159399\n",
       "2010-01-05  0.157238  0.158884  0.154995  0.202469   0.157092\n",
       "2010-01-06  0.156140  0.146049  0.153341  0.268184   0.143942\n",
       "2010-01-07  0.142436  0.134457  0.140094  0.432522   0.132105\n",
       "2010-01-08  0.127950  0.131464  0.134455  0.318492   0.138726"
      ]
     },
     "execution_count": 7,
     "metadata": {},
     "output_type": "execute_result"
    }
   ],
   "source": [
    "def normalize_data(df):\n",
    "    min_max_scaler = preprocessing.MinMaxScaler()\n",
    "    df['open'] = min_max_scaler.fit_transform(df.open.values.reshape(-1,1))\n",
    "    df['high'] = min_max_scaler.fit_transform(df.high.values.reshape(-1,1))\n",
    "    df['low'] = min_max_scaler.fit_transform(df.low.values.reshape(-1,1))\n",
    "    df['volume'] = min_max_scaler.fit_transform(df.volume.values.reshape(-1,1))\n",
    "    df['adj close'] = min_max_scaler.fit_transform(df['adj close'].values.reshape(-1,1))\n",
    "    return df\n",
    "df = normalize_data(df)\n",
    "df.head()"
   ]
  },
  {
   "cell_type": "markdown",
   "metadata": {
    "_cell_guid": "cda2ae07-6030-3cfc-7786-8557891c0fb7",
    "_uuid": "6cd444901234c280702a8ce529383060ab9074cf"
   },
   "source": [
    "# Creating training set and testing set"
   ]
  },
  {
   "cell_type": "code",
   "execution_count": 9,
   "metadata": {
    "_cell_guid": "27bca4c4-cd5f-23a3-2e3f-53433cf2dd96",
    "_uuid": "4995039c9f0594adc3e5de3cb1f0f22989ff190e"
   },
   "outputs": [],
   "source": [
    "def load_data(stock, seq_len):\n",
    "    amount_of_features = len(stock.columns) # 5\n",
    "    data = stock.as_matrix() \n",
    "    sequence_length = seq_len + 1 # index starting from 0\n",
    "    result = []\n",
    "    \n",
    "    for index in range(len(data) - sequence_length): # maxmimum date = lastest date - sequence length\n",
    "        result.append(data[index: index + sequence_length]) # index : index + 22days\n",
    "    \n",
    "    result = np.array(result)\n",
    "    row = round(0.9 * result.shape[0]) # 90% split\n",
    "    train = result[:int(row), :] # 90% date, all features \n",
    "    \n",
    "    x_train = train[:, :-1] \n",
    "    y_train = train[:, -1][:,-1]\n",
    "    \n",
    "    x_test = result[int(row):, :-1] \n",
    "    y_test = result[int(row):, -1][:,-1]\n",
    "\n",
    "    x_train = np.reshape(x_train, (x_train.shape[0], x_train.shape[1], amount_of_features))\n",
    "    x_test = np.reshape(x_test, (x_test.shape[0], x_test.shape[1], amount_of_features))  \n",
    "\n",
    "    return [x_train, y_train, x_test, y_test]"
   ]
  },
  {
   "cell_type": "markdown",
   "metadata": {},
   "source": [
    "# Building Model Structure"
   ]
  },
  {
   "cell_type": "code",
   "execution_count": null,
   "metadata": {
    "_cell_guid": "17b0bf0c-5b76-9052-ecd3-b9f99ba3da94",
    "_uuid": "edaf69d65c7f034cf66fe3a3a044c88546b2b539"
   },
   "outputs": [],
   "source": [
    "\n",
    "def build_model(layers):\n",
    "    d = 0.3\n",
    "    model = Sequential()\n",
    "    \n",
    "    model.add(LSTM(256, input_shape=(layers[1], layers[0]), return_sequences=True))\n",
    "    model.add(Dropout(d))\n",
    "        \n",
    "    model.add(LSTM(256, input_shape=(layers[1], layers[0]), return_sequences=False))\n",
    "    model.add(Dropout(d))\n",
    "        \n",
    "    model.add(Dense(32,kernel_initializer=\"uniform\",activation='relu'))        \n",
    "    model.add(Dense(1,kernel_initializer=\"uniform\",activation='linear'))\n",
    "    \n",
    "    # adam = keras.optimizers.Adam(decay=0.2)\n",
    "        \n",
    "    start = time.time()\n",
    "    model.compile(loss='mse',optimizer='adam', metrics=['accuracy'])\n",
    "    print(\"Compilation Time : \", time.time() - start)\n",
    "    return model"
   ]
  },
  {
   "cell_type": "markdown",
   "metadata": {
    "_cell_guid": "ca28b9e0-390f-5368-b043-00d0fc4f1b2a",
    "_uuid": "9e2e28337b25a997cd07f36c71e19e30350c15f8"
   },
   "source": [
    "# Training the model"
   ]
  },
  {
   "cell_type": "code",
   "execution_count": 11,
   "metadata": {
    "_cell_guid": "c3c292d2-bd7b-6e7f-bbba-39b64860ba20",
    "_uuid": "fb6a3c5a6e0ac1d249c9b26074537c9e8fef4fbb"
   },
   "outputs": [
    {
     "name": "stderr",
     "output_type": "stream",
     "text": [
      "C:\\Users\\Abhileopan\\Anaconda3\\lib\\site-packages\\ipykernel_launcher.py:3: FutureWarning: Method .as_matrix will be removed in a future version. Use .values instead.\n",
      "  This is separate from the ipykernel package so we can avoid doing imports until\n"
     ]
    },
    {
     "name": "stdout",
     "output_type": "stream",
     "text": [
      "[[0.15704696 0.16116746 0.15638998 0.1317225  0.15939908]\n",
      " [0.15723843 0.15888449 0.15499506 0.20246902 0.15709185]\n",
      " [0.15613951 0.14604929 0.15334121 0.26818406 0.14394234]\n",
      " [0.14243617 0.13445699 0.14009362 0.43252209 0.13210528]\n",
      " [0.12795029 0.13146379 0.13445546 0.3184921  0.13872603]\n",
      " [0.13832355 0.1356323  0.13546617 0.48640628 0.1379653 ]\n",
      " [0.13265404 0.13052526 0.13020388 0.3271972  0.12907917]\n",
      " [0.11503787 0.1186032  0.12203482 0.43807453 0.12624527]\n",
      " [0.12120685 0.12613696 0.12689613 0.2858228  0.12855249]\n",
      " [0.12906589 0.12210374 0.12636158 0.36641044 0.12031836]\n",
      " [0.11895908 0.12062405 0.12373877 0.29099208 0.12668832]\n",
      " [0.12293853 0.11977851 0.12003013 0.21906583 0.12066114]\n",
      " [0.12082392 0.1172081  0.12073176 0.42532947 0.1228095 ]\n",
      " [0.10505596 0.0855935  0.10718348 0.45857351 0.09524822]\n",
      " [0.09014547 0.08614311 0.08987641 0.29795279 0.08688037]\n",
      " [0.08296912 0.08680264 0.08964255 0.29361033 0.08890336]\n",
      " [0.08571648 0.08597403 0.08801372 0.26721945 0.08863587]\n",
      " [0.08839717 0.08199153 0.08747078 0.21760714 0.08210705]\n",
      " [0.08340204 0.0777723  0.08245074 0.27910072 0.07847068]\n",
      " [0.08016357 0.08173786 0.07812399 0.15159969 0.0810454 ]\n",
      " [0.08046326 0.07946339 0.07741402 0.27611276 0.07945711]\n",
      " [0.07522667 0.07998762 0.08337794 0.20208586 0.08756581]] 0.07582908201368749\n"
     ]
    }
   ],
   "source": [
    "window = 22\n",
    "X_train, y_train, X_test, y_test = load_data(df, window)\n",
    "print (X_train[0], y_train[0])"
   ]
  },
  {
   "cell_type": "code",
   "execution_count": 12,
   "metadata": {
    "_cell_guid": "212f77cd-fdeb-40df-595b-d6de775610f8",
    "_uuid": "e55464207f2e6e4a28db9e7bae4456151bb66a60"
   },
   "outputs": [
    {
     "name": "stdout",
     "output_type": "stream",
     "text": [
      "WARNING:tensorflow:From C:\\Users\\Abhileopan\\Anaconda3\\lib\\site-packages\\tensorflow\\python\\ops\\resource_variable_ops.py:435: colocate_with (from tensorflow.python.framework.ops) is deprecated and will be removed in a future version.\n",
      "Instructions for updating:\n",
      "Colocations handled automatically by placer.\n",
      "Compilation Time :  0.10571813583374023\n"
     ]
    }
   ],
   "source": [
    "model = build_model([5,window,1])"
   ]
  },
  {
   "cell_type": "code",
   "execution_count": 13,
   "metadata": {
    "_cell_guid": "886256b4-7578-d3a5-6cf0-ae394e3339ca",
    "_uuid": "275b24088c7c78cdbc0a5c239e7209dbfc1dea43"
   },
   "outputs": [
    {
     "name": "stdout",
     "output_type": "stream",
     "text": [
      "WARNING:tensorflow:From C:\\Users\\Abhileopan\\Anaconda3\\lib\\site-packages\\tensorflow\\python\\ops\\math_ops.py:3066: to_int32 (from tensorflow.python.ops.math_ops) is deprecated and will be removed in a future version.\n",
      "Instructions for updating:\n",
      "Use tf.cast instead.\n",
      "Epoch 1/90\n",
      "1565/1565 [==============================] - 12s 8ms/step - loss: 0.1790 - accuracy: 6.3898e-04\n",
      "Epoch 2/90\n",
      "1565/1565 [==============================] - 12s 8ms/step - loss: 0.0573 - accuracy: 6.3898e-04\n",
      "Epoch 3/90\n",
      "1565/1565 [==============================] - 10s 6ms/step - loss: 0.0414 - accuracy: 6.3898e-04\n",
      "Epoch 4/90\n",
      "1565/1565 [==============================] - 10s 6ms/step - loss: 0.0304 - accuracy: 6.3898e-04\n",
      "Epoch 5/90\n",
      "1565/1565 [==============================] - 11s 7ms/step - loss: 0.0126 - accuracy: 6.3898e-04\n",
      "Epoch 6/90\n",
      "1565/1565 [==============================] - 10s 6ms/step - loss: 0.0079 - accuracy: 6.3898e-04\n",
      "Epoch 7/90\n",
      "1565/1565 [==============================] - 10s 6ms/step - loss: 0.0107 - accuracy: 6.3898e-04\n",
      "Epoch 8/90\n",
      "1565/1565 [==============================] - 13s 8ms/step - loss: 0.0076 - accuracy: 6.3898e-04\n",
      "Epoch 9/90\n",
      "1565/1565 [==============================] - 10s 6ms/step - loss: 0.0049 - accuracy: 6.3898e-04\n",
      "Epoch 10/90\n",
      "1565/1565 [==============================] - 9s 6ms/step - loss: 0.0051 - accuracy: 6.3898e-04\n",
      "Epoch 11/90\n",
      "1565/1565 [==============================] - 9s 6ms/step - loss: 0.0038 - accuracy: 6.3898e-04\n",
      "Epoch 12/90\n",
      "1565/1565 [==============================] - 9s 6ms/step - loss: 0.0022 - accuracy: 6.3898e-04\n",
      "Epoch 13/90\n",
      "1565/1565 [==============================] - 9s 6ms/step - loss: 0.0019 - accuracy: 6.3898e-04\n",
      "Epoch 14/90\n",
      "1565/1565 [==============================] - 12s 7ms/step - loss: 0.0018 - accuracy: 6.3898e-04\n",
      "Epoch 15/90\n",
      "1565/1565 [==============================] - 9s 6ms/step - loss: 0.0017 - accuracy: 6.3898e-04\n",
      "Epoch 16/90\n",
      "1565/1565 [==============================] - 9s 6ms/step - loss: 0.0017 - accuracy: 6.3898e-04\n",
      "Epoch 17/90\n",
      "1565/1565 [==============================] - 10s 6ms/step - loss: 0.0016 - accuracy: 6.3898e-04\n",
      "Epoch 18/90\n",
      "1565/1565 [==============================] - 10s 6ms/step - loss: 0.0016 - accuracy: 6.3898e-04\n",
      "Epoch 19/90\n",
      "1565/1565 [==============================] - 9s 6ms/step - loss: 0.0015 - accuracy: 6.3898e-04\n",
      "Epoch 20/90\n",
      "1565/1565 [==============================] - 12s 8ms/step - loss: 0.0016 - accuracy: 6.3898e-04\n",
      "Epoch 21/90\n",
      "1565/1565 [==============================] - 9s 6ms/step - loss: 0.0015 - accuracy: 6.3898e-04\n",
      "Epoch 22/90\n",
      "1565/1565 [==============================] - 9s 6ms/step - loss: 0.0015 - accuracy: 6.3898e-04\n",
      "Epoch 23/90\n",
      "1565/1565 [==============================] - 9s 6ms/step - loss: 0.0015 - accuracy: 6.3898e-04\n",
      "Epoch 24/90\n",
      "1565/1565 [==============================] - 10s 6ms/step - loss: 0.0014 - accuracy: 6.3898e-04\n",
      "Epoch 25/90\n",
      "1565/1565 [==============================] - 10s 6ms/step - loss: 0.0017 - accuracy: 6.3898e-04\n",
      "Epoch 26/90\n",
      "1565/1565 [==============================] - 13s 8ms/step - loss: 0.0019 - accuracy: 6.3898e-04\n",
      "Epoch 27/90\n",
      "1565/1565 [==============================] - 10s 6ms/step - loss: 0.0016 - accuracy: 6.3898e-04\n",
      "Epoch 28/90\n",
      "1565/1565 [==============================] - 10s 6ms/step - loss: 0.0016 - accuracy: 6.3898e-04\n",
      "Epoch 29/90\n",
      "1565/1565 [==============================] - 10s 6ms/step - loss: 0.0015 - accuracy: 6.3898e-04\n",
      "Epoch 30/90\n",
      "1565/1565 [==============================] - 10s 6ms/step - loss: 0.0014 - accuracy: 6.3898e-04\n",
      "Epoch 31/90\n",
      "1565/1565 [==============================] - 10s 6ms/step - loss: 0.0014 - accuracy: 6.3898e-04\n",
      "Epoch 32/90\n",
      "1565/1565 [==============================] - 14s 9ms/step - loss: 0.0014 - accuracy: 6.3898e-04\n",
      "Epoch 33/90\n",
      "1565/1565 [==============================] - 9s 6ms/step - loss: 0.0014 - accuracy: 6.3898e-04\n",
      "Epoch 34/90\n",
      "1565/1565 [==============================] - 10s 6ms/step - loss: 0.0015 - accuracy: 6.3898e-04\n",
      "Epoch 35/90\n",
      "1565/1565 [==============================] - 10s 6ms/step - loss: 0.0014 - accuracy: 6.3898e-04\n",
      "Epoch 36/90\n",
      "1565/1565 [==============================] - 10s 6ms/step - loss: 0.0015 - accuracy: 6.3898e-04\n",
      "Epoch 37/90\n",
      "1565/1565 [==============================] - 10s 7ms/step - loss: 0.0016 - accuracy: 6.3898e-04\n",
      "Epoch 38/90\n",
      "1565/1565 [==============================] - 12s 7ms/step - loss: 0.0017 - accuracy: 6.3898e-04\n",
      "Epoch 39/90\n",
      "1565/1565 [==============================] - 10s 7ms/step - loss: 0.0016 - accuracy: 6.3898e-04\n",
      "Epoch 40/90\n",
      "1565/1565 [==============================] - 9s 6ms/step - loss: 0.0014 - accuracy: 6.3898e-04\n",
      "Epoch 41/90\n",
      "1565/1565 [==============================] - 9s 6ms/step - loss: 0.0015 - accuracy: 6.3898e-04\n",
      "Epoch 42/90\n",
      "1565/1565 [==============================] - 10s 7ms/step - loss: 0.0015 - accuracy: 6.3898e-04\n",
      "Epoch 43/90\n",
      "1565/1565 [==============================] - 12s 8ms/step - loss: 0.0014 - accuracy: 6.3898e-04\n",
      "Epoch 44/90\n",
      "1565/1565 [==============================] - 10s 6ms/step - loss: 0.0014 - accuracy: 6.3898e-04\n",
      "Epoch 45/90\n",
      "1565/1565 [==============================] - 10s 6ms/step - loss: 0.0013 - accuracy: 6.3898e-04\n",
      "Epoch 46/90\n",
      "1565/1565 [==============================] - 10s 6ms/step - loss: 0.0012 - accuracy: 6.3898e-04\n",
      "Epoch 47/90\n",
      "1565/1565 [==============================] - 9s 6ms/step - loss: 0.0014 - accuracy: 6.3898e-04\n",
      "Epoch 48/90\n",
      "1565/1565 [==============================] - 9s 6ms/step - loss: 0.0014 - accuracy: 6.3898e-04\n",
      "Epoch 49/90\n",
      "1565/1565 [==============================] - 12s 8ms/step - loss: 0.0014 - accuracy: 6.3898e-04\n",
      "Epoch 50/90\n",
      "1565/1565 [==============================] - 10s 6ms/step - loss: 0.0015 - accuracy: 6.3898e-04\n",
      "Epoch 51/90\n",
      "1565/1565 [==============================] - 10s 6ms/step - loss: 0.0015 - accuracy: 6.3898e-04\n",
      "Epoch 52/90\n",
      "1565/1565 [==============================] - 10s 6ms/step - loss: 0.0013 - accuracy: 6.3898e-04\n",
      "Epoch 53/90\n",
      "1565/1565 [==============================] - 10s 6ms/step - loss: 0.0013 - accuracy: 6.3898e-04\n",
      "Epoch 54/90\n",
      "1565/1565 [==============================] - 10s 6ms/step - loss: 0.0013 - accuracy: 6.3898e-04\n",
      "Epoch 55/90\n",
      "1565/1565 [==============================] - 14s 9ms/step - loss: 0.0013 - accuracy: 6.3898e-04\n",
      "Epoch 56/90\n",
      "1565/1565 [==============================] - 10s 6ms/step - loss: 0.0012 - accuracy: 6.3898e-04\n",
      "Epoch 57/90\n",
      "1565/1565 [==============================] - 10s 7ms/step - loss: 0.0015 - accuracy: 6.3898e-04\n",
      "Epoch 58/90\n",
      "1565/1565 [==============================] - 10s 6ms/step - loss: 0.0017 - accuracy: 6.3898e-04\n",
      "Epoch 59/90\n",
      "1565/1565 [==============================] - 10s 7ms/step - loss: 0.0016 - accuracy: 6.3898e-04\n",
      "Epoch 60/90\n",
      "1565/1565 [==============================] - 10s 7ms/step - loss: 0.0015 - accuracy: 6.3898e-04\n",
      "Epoch 61/90\n",
      "1565/1565 [==============================] - 13s 8ms/step - loss: 0.0013 - accuracy: 6.3898e-04\n",
      "Epoch 62/90\n",
      "1565/1565 [==============================] - 10s 6ms/step - loss: 0.0013 - accuracy: 6.3898e-04\n",
      "Epoch 63/90\n",
      "1565/1565 [==============================] - 11s 7ms/step - loss: 0.0013 - accuracy: 6.3898e-04\n",
      "Epoch 64/90\n",
      "1565/1565 [==============================] - 12s 8ms/step - loss: 0.0013 - accuracy: 6.3898e-04\n",
      "Epoch 65/90\n",
      "1565/1565 [==============================] - 11s 7ms/step - loss: 0.0013 - accuracy: 6.3898e-04\n",
      "Epoch 66/90\n",
      "1565/1565 [==============================] - 13s 9ms/step - loss: 0.0012 - accuracy: 6.3898e-04\n",
      "Epoch 67/90\n",
      "1565/1565 [==============================] - 9s 6ms/step - loss: 0.0012 - accuracy: 6.3898e-04\n",
      "Epoch 68/90\n",
      "1565/1565 [==============================] - 9s 6ms/step - loss: 0.0012 - accuracy: 6.3898e-04\n",
      "Epoch 69/90\n",
      "1565/1565 [==============================] - 9s 6ms/step - loss: 0.0014 - accuracy: 6.3898e-04\n",
      "Epoch 70/90\n",
      "1565/1565 [==============================] - 9s 6ms/step - loss: 0.0011 - accuracy: 6.3898e-04\n",
      "Epoch 71/90\n",
      "1565/1565 [==============================] - 9s 6ms/step - loss: 0.0011 - accuracy: 6.3898e-04\n",
      "Epoch 72/90\n",
      "1565/1565 [==============================] - 11s 7ms/step - loss: 0.0013 - accuracy: 6.3898e-04\n",
      "Epoch 73/90\n",
      "1565/1565 [==============================] - 9s 6ms/step - loss: 0.0014 - accuracy: 6.3898e-04\n",
      "Epoch 74/90\n",
      "1565/1565 [==============================] - 9s 6ms/step - loss: 0.0015 - accuracy: 6.3898e-04\n",
      "Epoch 75/90\n",
      "1565/1565 [==============================] - 9s 6ms/step - loss: 0.0015 - accuracy: 6.3898e-04\n",
      "Epoch 76/90\n",
      "1565/1565 [==============================] - 9s 6ms/step - loss: 0.0014 - accuracy: 6.3898e-04\n",
      "Epoch 77/90\n",
      "1565/1565 [==============================] - 10s 6ms/step - loss: 0.0016 - accuracy: 6.3898e-04\n",
      "Epoch 78/90\n",
      "1565/1565 [==============================] - 12s 8ms/step - loss: 0.0014 - accuracy: 6.3898e-04\n",
      "Epoch 79/90\n",
      "1565/1565 [==============================] - 10s 6ms/step - loss: 0.0014 - accuracy: 6.3898e-04\n",
      "Epoch 80/90\n",
      "1565/1565 [==============================] - 9s 6ms/step - loss: 0.0014 - accuracy: 6.3898e-04\n",
      "Epoch 81/90\n",
      "1565/1565 [==============================] - 10s 6ms/step - loss: 0.0018 - accuracy: 6.3898e-04\n",
      "Epoch 82/90\n",
      "1565/1565 [==============================] - 10s 6ms/step - loss: 0.0015 - accuracy: 6.3898e-04\n",
      "Epoch 83/90\n",
      "1565/1565 [==============================] - 10s 6ms/step - loss: 0.0014 - accuracy: 6.3898e-04\n",
      "Epoch 84/90\n",
      "1565/1565 [==============================] - 12s 8ms/step - loss: 0.0013 - accuracy: 6.3898e-04\n",
      "Epoch 85/90\n",
      "1565/1565 [==============================] - 10s 6ms/step - loss: 0.0017 - accuracy: 6.3898e-04\n",
      "Epoch 86/90\n",
      "1565/1565 [==============================] - 10s 6ms/step - loss: 0.0015 - accuracy: 6.3898e-04\n",
      "Epoch 87/90\n",
      "1565/1565 [==============================] - 10s 6ms/step - loss: 0.0012 - accuracy: 6.3898e-04\n",
      "Epoch 88/90\n",
      "1565/1565 [==============================] - 13s 8ms/step - loss: 0.0012 - accuracy: 6.3898e-04\n",
      "Epoch 89/90\n",
      "1565/1565 [==============================] - 11s 7ms/step - loss: 0.0016 - accuracy: 6.3898e-04\n",
      "Epoch 90/90\n",
      "1565/1565 [==============================] - 13s 8ms/step - loss: 0.0013 - accuracy: 6.3898e-04\n"
     ]
    },
    {
     "data": {
      "text/plain": [
       "<keras.callbacks.callbacks.History at 0x21dbd26d048>"
      ]
     },
     "execution_count": 13,
     "metadata": {},
     "output_type": "execute_result"
    }
   ],
   "source": [
    "model.fit(X_train,y_train,batch_size=512,epochs=90,verbose=1)"
   ]
  },
  {
   "cell_type": "code",
   "execution_count": 15,
   "metadata": {
    "_cell_guid": "52177800-ffc4-dfd5-c915-46d98f941ca7",
    "_uuid": "839e66cc4ae2073f06e7fd369274f20ef175d964"
   },
   "outputs": [
    {
     "name": "stdout",
     "output_type": "stream",
     "text": [
      "(174, 1)\n"
     ]
    }
   ],
   "source": [
    "# print(X_test[-1])\n",
    "diff=[]\n",
    "ratio=[]\n",
    "p = model.predict(X_test)\n",
    "print (p.shape)\n",
    "# for each data index in test data\n",
    "for u in range(len(y_test)):\n",
    "    # pr = prediction day u\n",
    "    pr = p[u][0]\n",
    "    # (y_test day u / pr) - 1\n",
    "    ratio.append((y_test[u]/pr)-1)\n",
    "    diff.append(abs(y_test[u]- pr))\n",
    "    # print(u, y_test[u], pr, (y_test[u]/pr)-1, abs(y_test[u]- pr))\n",
    "    # Last day prediction\n",
    "    # print(p[-1]) "
   ]
  },
  {
   "cell_type": "markdown",
   "metadata": {
    "_cell_guid": "fc1b3c69-d033-e7c1-9ff3-04cefd5d9940",
    "_uuid": "516f7c8db9a327d11eee081e4e6cf3161e7edadf"
   },
   "source": [
    "# Denormalizing the data"
   ]
  },
  {
   "cell_type": "code",
   "execution_count": 16,
   "metadata": {
    "_cell_guid": "fb935328-2516-89a0-e555-bdc5b289dac9",
    "_uuid": "e7e8adb5fa77e72685d27aa66996b8c385d70eec"
   },
   "outputs": [],
   "source": [
    "df = pd.read_csv(\"prices-split-adjusted.csv\", index_col = 0)\n",
    "df[\"adj close\"] = df.close # Moving close to the last column\n",
    "df.drop(['close'], 1, inplace=True) # Moving close to the last column\n",
    "df = df[df.symbol == 'GOOG']\n",
    "df.drop(['symbol'],1,inplace=True)\n",
    "\n",
    "\n",
    "def denormalize(df, normalized_value): \n",
    "    df = df['adj close'].values.reshape(-1,1)\n",
    "    normalized_value = normalized_value.reshape(-1,1)\n",
    "    \n",
    "    #return df.shape, p.shape\n",
    "    min_max_scaler = preprocessing.MinMaxScaler()\n",
    "    a = min_max_scaler.fit_transform(df)\n",
    "    new = min_max_scaler.inverse_transform(normalized_value)\n",
    "    return new\n",
    "\n",
    "newp = denormalize(df, p)\n",
    "newy_test = denormalize(df, y_test)"
   ]
  },
  {
   "cell_type": "markdown",
   "metadata": {},
   "source": [
    "# Results:Training and Test Score"
   ]
  },
  {
   "cell_type": "code",
   "execution_count": 17,
   "metadata": {
    "_cell_guid": "2f638a96-8f36-7dc9-4118-f97e3df06705",
    "_uuid": "fe60d6728ddac1743f4dd9ad7e7ec9267ebb2818"
   },
   "outputs": [
    {
     "name": "stdout",
     "output_type": "stream",
     "text": [
      "Train Score: 0.00069 MSE (0.03 RMSE)\n",
      "Test Score: 0.00143 MSE (0.04 RMSE)\n"
     ]
    },
    {
     "data": {
      "text/plain": [
       "(0.0006865979151461071, 0.0014253410847921823)"
      ]
     },
     "execution_count": 17,
     "metadata": {},
     "output_type": "execute_result"
    }
   ],
   "source": [
    "def model_score(model, X_train, y_train, X_test, y_test):\n",
    "    trainScore = model.evaluate(X_train, y_train, verbose=0)\n",
    "    print('Train Score: %.5f MSE (%.2f RMSE)' % (trainScore[0], math.sqrt(trainScore[0])))\n",
    "\n",
    "    testScore = model.evaluate(X_test, y_test, verbose=0)\n",
    "    print('Test Score: %.5f MSE (%.2f RMSE)' % (testScore[0], math.sqrt(testScore[0])))\n",
    "    return trainScore[0], testScore[0]\n",
    "\n",
    "\n",
    "model_score(model, X_train, y_train, X_test, y_test)"
   ]
  },
  {
   "cell_type": "markdown",
   "metadata": {},
   "source": [
    "# Plotting Results"
   ]
  },
  {
   "cell_type": "code",
   "execution_count": 18,
   "metadata": {
    "_cell_guid": "99be25aa-e2c3-35fd-64a5-988200295018",
    "_uuid": "558e6234460266ac007a96f780542c1864be8349"
   },
   "outputs": [
    {
     "data": {
      "image/png": "[encoded data removed]",
      "text/plain": [
       "<Figure size 432x288 with 1 Axes>"
      ]
     },
     "metadata": {},
     "output_type": "display_data"
    }
   ],
   "source": [
    "import matplotlib.pyplot as plt2\n",
    "\n",
    "plt2.plot(newp,color='red', label='Prediction')\n",
    "plt2.plot(newy_test,color='blue', label='Actual')\n",
    "plt2.legend(loc='best')\n",
    "plt2.show()"
   ]
  }
 ],
 "metadata": {
  "_change_revision": 0,
  "_is_fork": false,
  "kernelspec": {
   "display_name": "Python 3",
   "language": "python",
   "name": "python3"
  },
  "language_info": {
   "codemirror_mode": {
    "name": "ipython",
    "version": 3
   },
   "file_extension": ".py",
   "mimetype": "text/x-python",
   "name": "python",
   "nbconvert_exporter": "python",
   "pygments_lexer": "ipython3",
   "version": "3.6.5"
  }
 },
 "nbformat": 4,
 "nbformat_minor": 1
}
